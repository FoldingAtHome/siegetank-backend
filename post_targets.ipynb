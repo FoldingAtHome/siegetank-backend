{
 "metadata": {
  "name": ""
 },
 "nbformat": 3,
 "nbformat_minor": 0,
 "worksheets": [
  {
   "cells": [
    {
     "cell_type": "code",
     "collapsed": false,
     "input": [
      "import requests\n",
      "import json\n",
      "import os\n",
      "import base64"
     ],
     "language": "python",
     "metadata": {},
     "outputs": [],
     "prompt_number": 48
    },
    {
     "cell_type": "code",
     "collapsed": false,
     "input": [
      "reply = requests.post('https://127.0.0.1:8980/auth', data=json.dumps({'email': 'proteneer@gmail.com',\n",
      "                                                             'password': 'foo'}), verify=False)\n",
      "auth = json.loads(reply.content.decode())\n",
      "print(auth)"
     ],
     "language": "python",
     "metadata": {},
     "outputs": [
      {
       "output_type": "stream",
       "stream": "stdout",
       "text": [
        "{'token': 'c8e0f9ef-d30c-4ba8-ab95-ebbb3c740b7c'}\n"
       ]
      }
     ],
     "prompt_number": 49
    },
    {
     "cell_type": "code",
     "collapsed": false,
     "input": [
      "reply = requests.post('https://127.0.0.1:8980/targets', headers={'Authorization': auth['token']}, verify=False,\n",
      "                      data=json.dumps({'description': 'foo',\n",
      "                                       'engine': 'openmm',\n",
      "                                       'engine_versions': ['6.0'],\n",
      "                                       'steps_per_frame': 100000,\n",
      "                                       'files': {'system.xml.gz.b64': base64.b64encode(os.urandom(24)).decode(),\n",
      "                                                 'integrator.xml.gz.b64': base64.b64encode(os.urandom(24)).decode()}\n",
      "                                       })\n",
      "                      )\n",
      "print(reply.content)"
     ],
     "language": "python",
     "metadata": {},
     "outputs": [
      {
       "output_type": "stream",
       "stream": "stdout",
       "text": [
        "b'{\"target_id\": \"f548de0f-1d5f-4bea-8dd7-a5b4097ffa6c\"}'\n"
       ]
      }
     ],
     "prompt_number": 62
    },
    {
     "cell_type": "code",
     "collapsed": false,
     "input": [
      "reply = requests.get('https://127.0.0.1:8980/targets', verify=False)"
     ],
     "language": "python",
     "metadata": {},
     "outputs": [],
     "prompt_number": 63
    },
    {
     "cell_type": "code",
     "collapsed": false,
     "input": [
      "print(reply.content)"
     ],
     "language": "python",
     "metadata": {},
     "outputs": [
      {
       "output_type": "stream",
       "stream": "stdout",
       "text": [
        "b'{\"targets\": [\"746e62da-31b2-4663-860c-36e6a8fa5676\", \"61be8930-e6fd-4b98-8382-0d0540728c02\", \"4983ed3a-294b-4d9f-ae25-b03535b5d068\", \"2916c9d8-dfd1-4241-abcf-b1eed396097a\"]}'\n"
       ]
      }
     ],
     "prompt_number": 61
    },
    {
     "cell_type": "code",
     "collapsed": false,
     "input": [],
     "language": "python",
     "metadata": {},
     "outputs": []
    }
   ],
   "metadata": {}
  }
 ]
}
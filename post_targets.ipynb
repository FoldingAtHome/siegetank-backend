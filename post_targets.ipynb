{
 "metadata": {
  "name": ""
 },
 "nbformat": 3,
 "nbformat_minor": 0,
 "worksheets": [
  {
   "cells": [
    {
     "cell_type": "code",
     "collapsed": false,
     "input": [
      "import requests\n",
      "import json\n",
      "import os\n",
      "import base64"
     ],
     "language": "python",
     "metadata": {},
     "outputs": [],
     "prompt_number": 45
    },
    {
     "cell_type": "code",
     "collapsed": false,
     "input": [
      "reply = requests.post('https://127.0.0.1:8980/managers', data=json.dumps({'email': 'proteneer@gmail.com',\n",
      "                                                             'password': 'foo'}), verify=False)\n",
      "print(reply.status_code)"
     ],
     "language": "python",
     "metadata": {},
     "outputs": [
      {
       "output_type": "stream",
       "stream": "stdout",
       "text": [
        "500\n"
       ]
      }
     ],
     "prompt_number": 48
    },
    {
     "cell_type": "code",
     "collapsed": false,
     "input": [
      "reply = requests.post('https://127.0.0.1:8980/auth', data=json.dumps({'email': 'proteneer@gmail.com',\n",
      "                                                             'password': 'foo'}), verify=False)\n",
      "auth = json.loads(reply.content.decode())\n",
      "print(auth)"
     ],
     "language": "python",
     "metadata": {},
     "outputs": [
      {
       "output_type": "stream",
       "stream": "stdout",
       "text": [
        "{'token': 'b6fb9cd5-2a60-43c2-ab61-996980acb26b'}\n"
       ]
      }
     ],
     "prompt_number": 49
    },
    {
     "cell_type": "code",
     "collapsed": false,
     "input": [
      "reply = requests.post('https://127.0.0.1:8980/targets', headers={'Authorization': auth['token']}, verify=False,\n",
      "                      data=json.dumps({'description': 'foo',\n",
      "                                       'engine': 'openmm',\n",
      "                                       'engine_versions': ['6.0'],\n",
      "                                       'steps_per_frame': 100000,\n",
      "                                       'files': {'system.xml.gz.b64': base64.b64encode(os.urandom(24)).decode(),\n",
      "                                                 'integrator.xml.gz.b64': base64.b64encode(os.urandom(24)).decode()}\n",
      "                                       })\n",
      "                      )\n",
      "print(reply.content)"
     ],
     "language": "python",
     "metadata": {},
     "outputs": [
      {
       "output_type": "stream",
       "stream": "stdout",
       "text": [
        "b'{\"target_id\": \"cb12c6d7-3f63-4290-be33-2f27e42af322\"}'\n"
       ]
      }
     ],
     "prompt_number": 54
    },
    {
     "cell_type": "code",
     "collapsed": false,
     "input": [
      "reply = requests.get('https://127.0.0.1:8980/targets', verify=False)"
     ],
     "language": "python",
     "metadata": {},
     "outputs": [],
     "prompt_number": 55
    },
    {
     "cell_type": "code",
     "collapsed": false,
     "input": [
      "target_id = json.loads(reply.content.decode())['targets'][0]"
     ],
     "language": "python",
     "metadata": {},
     "outputs": [],
     "prompt_number": 52
    },
    {
     "cell_type": "code",
     "collapsed": false,
     "input": [
      "reply = requests.post('https://127.0.0.1:8980/streams', headers={'Authorization': auth['token']}, verify=False,\n",
      "                      data=json.dumps({'target_id': target_id,\n",
      "                                       'files': {'state.xml.gz.b64':  base64.b64encode(os.urandom(24)).decode()}\n",
      "                                       })\n",
      "                      )\n",
      "print(reply.content)"
     ],
     "language": "python",
     "metadata": {},
     "outputs": [
      {
       "output_type": "stream",
       "stream": "stdout",
       "text": [
        "b'{\"stream_id\": \"911b8985-9094-4158-8578-ad4786fc844a\"}'\n"
       ]
      }
     ],
     "prompt_number": 75
    },
    {
     "cell_type": "code",
     "collapsed": false,
     "input": [],
     "language": "python",
     "metadata": {},
     "outputs": []
    }
   ],
   "metadata": {}
  }
 ]
}
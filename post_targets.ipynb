{
 "metadata": {
  "name": ""
 },
 "nbformat": 3,
 "nbformat_minor": 0,
 "worksheets": [
  {
   "cells": [
    {
     "cell_type": "code",
     "collapsed": false,
     "input": [
      "import requests\n",
      "import json\n",
      "import os\n",
      "import base64\n",
      "import gzip\n",
      "import io"
     ],
     "language": "python",
     "metadata": {},
     "outputs": [],
     "prompt_number": 100
    },
    {
     "cell_type": "code",
     "collapsed": false,
     "input": [
      "reply = requests.post('https://127.0.0.1:8980/managers', data=json.dumps({'email': 'proteneer@gmail.com',\n",
      "                                                             'password': 'foo'}), verify=False)\n",
      "print(reply.status_code)"
     ],
     "language": "python",
     "metadata": {},
     "outputs": [
      {
       "output_type": "stream",
       "stream": "stdout",
       "text": [
        "500\n"
       ]
      }
     ],
     "prompt_number": 101
    },
    {
     "cell_type": "code",
     "collapsed": false,
     "input": [
      "reply = requests.post('https://127.0.0.1:8980/auth', data=json.dumps({'email': 'proteneer@gmail.com',\n",
      "                                                             'password': 'foo'}), verify=False)\n",
      "auth = json.loads(reply.content.decode())\n",
      "print(auth)"
     ],
     "language": "python",
     "metadata": {},
     "outputs": [
      {
       "output_type": "stream",
       "stream": "stdout",
       "text": [
        "{'token': '362465b3-58e1-48d4-a04d-1ae9599ed123'}\n"
       ]
      }
     ],
     "prompt_number": 102
    },
    {
     "cell_type": "code",
     "collapsed": false,
     "input": [
      "system_xml = open('system.xml').read().encode()\n",
      "integrator_xml = open('integrator.xml').read().encode()\n",
      "reply = requests.post('https://127.0.0.1:8980/targets', headers={'Authorization': auth['token']}, verify=False,\n",
      "                      data=json.dumps({'description': 'foo',\n",
      "                                       'engine': 'openmm',\n",
      "                                       'engine_versions': ['6.0'],\n",
      "                                       'steps_per_frame': 100000,\n",
      "                                       'files': {'system.xml.gz.b64': base64.b64encode(gzip.compress(system_xml)).decode(),\n",
      "                                                 'integrator.xml.gz.b64': base64.b64encode(gzip.compress(integrator_xml)).decode()}\n",
      "                                       })\n",
      "                      )\n",
      "print(reply.content)"
     ],
     "language": "python",
     "metadata": {},
     "outputs": [
      {
       "output_type": "stream",
       "stream": "stdout",
       "text": [
        "b'{\"target_id\": \"02c8f478-710f-4249-ab00-9dcbb70352ad\"}'\n"
       ]
      }
     ],
     "prompt_number": 103
    },
    {
     "cell_type": "code",
     "collapsed": false,
     "input": [
      "reply = requests.get('https://127.0.0.1:8980/targets', verify=False)"
     ],
     "language": "python",
     "metadata": {},
     "outputs": [],
     "prompt_number": 104
    },
    {
     "cell_type": "code",
     "collapsed": false,
     "input": [
      "target_id = json.loads(reply.content.decode())['targets'][0]"
     ],
     "language": "python",
     "metadata": {},
     "outputs": [],
     "prompt_number": 105
    },
    {
     "cell_type": "code",
     "collapsed": false,
     "input": [
      "state_xml = open('state.xml').read().encode()\n",
      "for i in range(10):\n",
      "    reply = requests.post('https://127.0.0.1:8980/streams', headers={'Authorization': auth['token']}, verify=False,\n",
      "                          data=json.dumps({'target_id': target_id,\n",
      "                                           'files': {'state.xml.gz.b64':  base64.b64encode(gzip.compress(state_xml)).decode()}\n",
      "                                           })\n",
      "                          )"
     ],
     "language": "python",
     "metadata": {},
     "outputs": [],
     "prompt_number": 106
    },
    {
     "cell_type": "code",
     "collapsed": false,
     "input": [
      "reply = requests.post('https://127.0.0.1:8980/core/assign', verify=False,\n",
      "                      data=json.dumps({'engine': 'openmm',\n",
      "                                       'engine_version': '6.0'})\n",
      "                      )\n",
      "print(reply.status_code)"
     ],
     "language": "python",
     "metadata": {},
     "outputs": [
      {
       "output_type": "stream",
       "stream": "stdout",
       "text": [
        "200\n"
       ]
      }
     ],
     "prompt_number": 27
    },
    {
     "cell_type": "code",
     "collapsed": false,
     "input": [
      "content = json.loads(reply.content.decode())\n",
      "print(content)"
     ],
     "language": "python",
     "metadata": {},
     "outputs": [
      {
       "output_type": "stream",
       "stream": "stdout",
       "text": [
        "{'uri': 'https://127.0.0.1:8960/core/start', 'token': '8728dc86-2c19-4f99-8175-1fd5737b6f51'}\n"
       ]
      }
     ],
     "prompt_number": 39
    },
    {
     "cell_type": "code",
     "collapsed": false,
     "input": [
      "reply = requests.get(content['uri'], headers={'Authorization': content['token']}, verify=False)"
     ],
     "language": "python",
     "metadata": {},
     "outputs": [],
     "prompt_number": 26
    },
    {
     "cell_type": "code",
     "collapsed": false,
     "input": [
      "print(reply.status_code)"
     ],
     "language": "python",
     "metadata": {},
     "outputs": [
      {
       "output_type": "stream",
       "stream": "stdout",
       "text": [
        "200\n"
       ]
      }
     ],
     "prompt_number": 28
    },
    {
     "cell_type": "code",
     "collapsed": false,
     "input": [
      "print(reply.content)"
     ],
     "language": "python",
     "metadata": {},
     "outputs": [
      {
       "output_type": "stream",
       "stream": "stdout",
       "text": [
        "b'{\"stream_files\": {\"state.xml.gz.b64\": \"QTgjv9LvUk+cR752ejcoDESJWngbxeIi\"}, \"stream_id\": \"4fd62b78-1b7b-4447-ba3c-585c5003fd8f\", \"target_files\": {\"integrator.xml.gz.b64\": \"wnOK9ZK77UYyZ5qk/vR5Z9/nG+1q4vX0\", \"system.xml.gz.b64\": \"530hQCf0aQBt/vDZTwjUmFyJ8NFX29OB\"}, \"target_id\": \"580e4db4-0ad8-41fd-85bd-d1f85e7a92cb\"}'\n"
       ]
      }
     ],
     "prompt_number": 30
    }
   ],
   "metadata": {}
  }
 ]
}
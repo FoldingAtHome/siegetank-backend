{
 "metadata": {
  "name": ""
 },
 "nbformat": 3,
 "nbformat_minor": 0,
 "worksheets": [
  {
   "cells": [
    {
     "cell_type": "code",
     "collapsed": false,
     "input": [
      "import requests\n",
      "import json\n",
      "import os\n",
      "import base64\n",
      "import gzip"
     ],
     "language": "python",
     "metadata": {},
     "outputs": [],
     "prompt_number": 1
    },
    {
     "cell_type": "code",
     "collapsed": false,
     "input": [
      "reply = requests.post('https://127.0.0.1:8980/managers', data=json.dumps({'email': 'proteneer@gmail.com',\n",
      "                                                             'password': 'foo'}), verify=False)\n",
      "print(reply.status_code)"
     ],
     "language": "python",
     "metadata": {},
     "outputs": [
      {
       "output_type": "stream",
       "stream": "stdout",
       "text": [
        "200\n"
       ]
      }
     ],
     "prompt_number": 2
    },
    {
     "cell_type": "code",
     "collapsed": false,
     "input": [
      "reply = requests.post('https://127.0.0.1:8980/auth', data=json.dumps({'email': 'proteneer@gmail.com',\n",
      "                                                             'password': 'foo'}), verify=False)\n",
      "auth = json.loads(reply.content.decode())\n",
      "print(auth)"
     ],
     "language": "python",
     "metadata": {},
     "outputs": [
      {
       "output_type": "stream",
       "stream": "stdout",
       "text": [
        "{'token': '700ff8cd-5e87-45a0-987c-6229462658e6'}\n"
       ]
      }
     ],
     "prompt_number": 3
    },
    {
     "cell_type": "code",
     "collapsed": false,
     "input": [
      "reply = requests.post('https://127.0.0.1:8980/targets', headers={'Authorization': auth['token']}, verify=False,\n",
      "                      data=json.dumps({'description': 'foo',\n",
      "                                       'engine': 'openmm',\n",
      "                                       'engine_versions': ['6.0'],\n",
      "                                       'steps_per_frame': 100000,\n",
      "                                       'files': {'system.xml.gz.b64': base64.b64encode(os.urandom(24)).decode(),\n",
      "                                                 'integrator.xml.gz.b64': base64.b64encode(os.urandom(24)).decode()}\n",
      "                                       })\n",
      "                      )\n",
      "print(reply.content)"
     ],
     "language": "python",
     "metadata": {},
     "outputs": [
      {
       "output_type": "stream",
       "stream": "stdout",
       "text": [
        "b'{\"target_id\": \"ff489fc2-6acd-4a8a-a936-3562e622b6b6\"}'\n"
       ]
      }
     ],
     "prompt_number": 4
    },
    {
     "cell_type": "code",
     "collapsed": false,
     "input": [
      "reply = requests.get('https://127.0.0.1:8980/targets', verify=False)"
     ],
     "language": "python",
     "metadata": {},
     "outputs": [],
     "prompt_number": 5
    },
    {
     "cell_type": "code",
     "collapsed": false,
     "input": [
      "target_id = json.loads(reply.content.decode())['targets'][0]"
     ],
     "language": "python",
     "metadata": {},
     "outputs": [],
     "prompt_number": 6
    },
    {
     "cell_type": "code",
     "collapsed": false,
     "input": [
      "for i in range(50):\n",
      "    reply = requests.post('https://127.0.0.1:8980/streams', headers={'Authorization': auth['token']}, verify=False,\n",
      "                          data=json.dumps({'target_id': target_id,\n",
      "                                           'files': {'state.xml.gz.b64':  base64.b64encode(os.urandom(24)).decode()}\n",
      "                                           })\n",
      "                          )"
     ],
     "language": "python",
     "metadata": {},
     "outputs": [
      {
       "output_type": "stream",
       "stream": "stdout",
       "text": [
        "b'{\"stream_id\": \"0f9085ff-9c4b-45d0-b6f7-59730de0e8d6\"}'\n",
        "b'{\"stream_id\": \"f92969b9-4d2c-4c6a-b38f-10ce760046b1\"}'\n",
        "b'{\"stream_id\": \"b3391ce8-dd70-44bc-a2af-137f478fc18c\"}'"
       ]
      },
      {
       "output_type": "stream",
       "stream": "stdout",
       "text": [
        "\n",
        "b'{\"stream_id\": \"5cfdc8ef-c2f0-4afe-a988-db0034172858\"}'\n",
        "b'{\"stream_id\": \"f4fc334d-ad9d-4730-994a-10ca592a0976\"}'"
       ]
      },
      {
       "output_type": "stream",
       "stream": "stdout",
       "text": [
        "\n",
        "b'{\"stream_id\": \"2071eeaf-78a8-405c-aef1-13db487a3b25\"}'\n",
        "b'{\"stream_id\": \"048f6c2f-dd5c-4773-bbb9-e69cc137afe7\"}'"
       ]
      },
      {
       "output_type": "stream",
       "stream": "stdout",
       "text": [
        "\n",
        "b'{\"stream_id\": \"29541e64-adaf-4f63-9aff-2fccf2430ff4\"}'\n",
        "b'{\"stream_id\": \"6fae8db7-fb18-4d9b-9082-ba4532409a41\"}'"
       ]
      },
      {
       "output_type": "stream",
       "stream": "stdout",
       "text": [
        "\n",
        "b'{\"stream_id\": \"855d4df1-a207-480c-8448-b4ed1724d2a7\"}'\n",
        "b'{\"stream_id\": \"f7aaf92c-7d24-48e7-9c69-ca123128a9ca\"}'"
       ]
      },
      {
       "output_type": "stream",
       "stream": "stdout",
       "text": [
        "\n",
        "b'{\"stream_id\": \"d1aa59fb-f596-4c79-b924-416330f8a2f4\"}'\n",
        "b'{\"stream_id\": \"eac93689-3191-42f6-82bb-cb0db739ee79\"}'"
       ]
      },
      {
       "output_type": "stream",
       "stream": "stdout",
       "text": [
        "\n",
        "b'{\"stream_id\": \"c88539ed-bbd4-42e2-9b8c-43d9f2007bdd\"}'\n",
        "b'{\"stream_id\": \"a140bb76-27d8-4c16-8d91-0a0648eb89ec\"}'"
       ]
      },
      {
       "output_type": "stream",
       "stream": "stdout",
       "text": [
        "\n",
        "b'{\"stream_id\": \"e299379a-b78b-48c2-a9d0-951b863e87e2\"}'\n",
        "b'{\"stream_id\": \"5887d7df-807e-4a65-98e2-3f82beda5170\"}'"
       ]
      },
      {
       "output_type": "stream",
       "stream": "stdout",
       "text": [
        "\n",
        "b'{\"stream_id\": \"c17e2888-b5b8-4b24-89f3-7ed29ac1e81f\"}'\n",
        "b'{\"stream_id\": \"6e3ae0e1-e237-4399-9261-a0abf961802b\"}'"
       ]
      },
      {
       "output_type": "stream",
       "stream": "stdout",
       "text": [
        "\n",
        "b'{\"stream_id\": \"7a8025a4-ac81-4770-802b-72f928f9b54a\"}'\n",
        "b'{\"stream_id\": \"434bd7b2-0084-40f8-89da-af3f4227b136\"}'"
       ]
      },
      {
       "output_type": "stream",
       "stream": "stdout",
       "text": [
        "\n",
        "b'{\"stream_id\": \"6e103971-8716-49f5-84da-f8816543bb94\"}'\n",
        "b'{\"stream_id\": \"11c95e70-9d67-47a2-82b2-13ff7a1fe1c8\"}'"
       ]
      },
      {
       "output_type": "stream",
       "stream": "stdout",
       "text": [
        "\n",
        "b'{\"stream_id\": \"4c9f7a23-ba86-4d08-82c8-192aa7949fdb\"}'\n",
        "b'{\"stream_id\": \"f5b884ab-c252-4463-9c8f-ba1e7dd075e3\"}'"
       ]
      },
      {
       "output_type": "stream",
       "stream": "stdout",
       "text": [
        "\n",
        "b'{\"stream_id\": \"7fbb43ef-9ff6-4758-87ed-57b9419e2aca\"}'\n",
        "b'{\"stream_id\": \"5bdc55e8-e1fe-4562-8ca3-8ac2aa3aca9a\"}'"
       ]
      },
      {
       "output_type": "stream",
       "stream": "stdout",
       "text": [
        "\n",
        "b'{\"stream_id\": \"c3082396-65a1-4835-914c-f84e2b614251\"}'\n",
        "b'{\"stream_id\": \"dd9c26d8-820b-443d-9867-1344ba8ca9bb\"}'"
       ]
      },
      {
       "output_type": "stream",
       "stream": "stdout",
       "text": [
        "\n",
        "b'{\"stream_id\": \"d3a1ed11-052c-4b38-abd5-ba9e89a8abaa\"}'\n",
        "b'{\"stream_id\": \"1ddadbaf-3ff1-4acb-b9a4-c5f52a3ed888\"}'"
       ]
      },
      {
       "output_type": "stream",
       "stream": "stdout",
       "text": [
        "\n",
        "b'{\"stream_id\": \"feea680a-35f6-4267-b86d-809b3c14078f\"}'\n",
        "b'{\"stream_id\": \"6c0a09e2-a17b-4ad8-a9f6-4a6fed6de477\"}'"
       ]
      },
      {
       "output_type": "stream",
       "stream": "stdout",
       "text": [
        "\n",
        "b'{\"stream_id\": \"fb8fb017-2e52-4656-af6b-0f0de5d5e169\"}'\n",
        "b'{\"stream_id\": \"a4438ac6-a075-483a-ba26-5dbc2b015dc4\"}'"
       ]
      },
      {
       "output_type": "stream",
       "stream": "stdout",
       "text": [
        "\n",
        "b'{\"stream_id\": \"d8ec72c9-6fe8-4f40-b0aa-8baac7dae269\"}'\n",
        "b'{\"stream_id\": \"ff9d8a55-7ae4-4fbd-8057-d3d39cf3be95\"}'"
       ]
      },
      {
       "output_type": "stream",
       "stream": "stdout",
       "text": [
        "\n",
        "b'{\"stream_id\": \"ae28fc0c-02a8-472f-9fb4-da978729e822\"}'\n",
        "b'{\"stream_id\": \"34f08aa2-3245-4bf0-8b91-4d0792540605\"}'"
       ]
      },
      {
       "output_type": "stream",
       "stream": "stdout",
       "text": [
        "\n",
        "b'{\"stream_id\": \"49975d5a-b8de-488a-b6c7-65f782f22d03\"}'\n",
        "b'{\"stream_id\": \"0d516232-60f3-4349-8b51-8ae1d81d37a4\"}'"
       ]
      },
      {
       "output_type": "stream",
       "stream": "stdout",
       "text": [
        "\n",
        "b'{\"stream_id\": \"a6163041-c715-44a9-85ed-8561b80061b0\"}'\n",
        "b'{\"stream_id\": \"538bc0df-6f2d-4935-9854-f59bb5341c59\"}'"
       ]
      },
      {
       "output_type": "stream",
       "stream": "stdout",
       "text": [
        "\n",
        "b'{\"stream_id\": \"0a410234-c67b-423c-9cca-89605183a62a\"}'\n",
        "b'{\"stream_id\": \"88d0c761-b37a-417d-b509-fc7a1f6bc9cf\"}'"
       ]
      },
      {
       "output_type": "stream",
       "stream": "stdout",
       "text": [
        "\n",
        "b'{\"stream_id\": \"fec1498c-e471-4a46-af6a-0869d40a063c\"}'\n",
        "b'{\"stream_id\": \"e26bf356-4041-451a-be0b-2223e560dd07\"}'\n",
        "b'{\"stream_id\": \"a8c88994-5075-4ccc-b1cf-c3add36bf3ac\"}'"
       ]
      },
      {
       "output_type": "stream",
       "stream": "stdout",
       "text": [
        "\n",
        "b'{\"stream_id\": \"679921c5-eae3-4af3-a3de-012e28b1f028\"}'\n",
        "b'{\"stream_id\": \"b4a92d97-3ad3-4a48-9f31-ce4a9b650eeb\"}'"
       ]
      },
      {
       "output_type": "stream",
       "stream": "stdout",
       "text": [
        "\n"
       ]
      }
     ],
     "prompt_number": 15
    },
    {
     "cell_type": "code",
     "collapsed": false,
     "input": [
      "reply = requests.post('https://127.0.0.1:8980/core/assign', verify=False,\n",
      "                      data=json.dumps({'engine': 'openmm',\n",
      "                                       'engine_version': '6.0'})\n",
      "                      )\n",
      "print(reply.status_code)"
     ],
     "language": "python",
     "metadata": {},
     "outputs": [
      {
       "output_type": "stream",
       "stream": "stdout",
       "text": [
        "200\n"
       ]
      }
     ],
     "prompt_number": 27
    },
    {
     "cell_type": "code",
     "collapsed": false,
     "input": [
      "content = json.loads(reply.content.decode())\n",
      "print(content)"
     ],
     "language": "python",
     "metadata": {},
     "outputs": [
      {
       "output_type": "stream",
       "stream": "stdout",
       "text": [
        "{'uri': 'https://127.0.0.1:8960/core/start', 'token': '8728dc86-2c19-4f99-8175-1fd5737b6f51'}\n"
       ]
      }
     ],
     "prompt_number": 39
    },
    {
     "cell_type": "code",
     "collapsed": false,
     "input": [
      "reply = requests.get(content['uri'], headers={'Authorization': content['token']}, verify=False)"
     ],
     "language": "python",
     "metadata": {},
     "outputs": [],
     "prompt_number": 26
    },
    {
     "cell_type": "code",
     "collapsed": false,
     "input": [
      "print(reply.status_code)"
     ],
     "language": "python",
     "metadata": {},
     "outputs": [
      {
       "output_type": "stream",
       "stream": "stdout",
       "text": [
        "200\n"
       ]
      }
     ],
     "prompt_number": 28
    },
    {
     "cell_type": "code",
     "collapsed": false,
     "input": [
      "print(reply.content)"
     ],
     "language": "python",
     "metadata": {},
     "outputs": [
      {
       "output_type": "stream",
       "stream": "stdout",
       "text": [
        "b'{\"stream_files\": {\"state.xml.gz.b64\": \"QTgjv9LvUk+cR752ejcoDESJWngbxeIi\"}, \"stream_id\": \"4fd62b78-1b7b-4447-ba3c-585c5003fd8f\", \"target_files\": {\"integrator.xml.gz.b64\": \"wnOK9ZK77UYyZ5qk/vR5Z9/nG+1q4vX0\", \"system.xml.gz.b64\": \"530hQCf0aQBt/vDZTwjUmFyJ8NFX29OB\"}, \"target_id\": \"580e4db4-0ad8-41fd-85bd-d1f85e7a92cb\"}'\n"
       ]
      }
     ],
     "prompt_number": 30
    },
    {
     "cell_type": "code",
     "collapsed": false,
     "input": [
      "import io\n",
      "import gzip\n",
      "import base64\n",
      "out = io.BytesIO()\n",
      "with gzip.GzipFile(fileobj=out, mode=\"w\") as f:\n",
      "  f.write(b\"This is mike number one, isn't this a lot of fun?\")\n",
      "out.getvalue()\n",
      "print(base64.b64encode(out.getvalue()))"
     ],
     "language": "python",
     "metadata": {},
     "outputs": [
      {
       "output_type": "stream",
       "stream": "stdout",
       "text": [
        "b'H4sIACyY6VIC/wvJyCxWAKLczOxUhbzS3KTUIoX8vFQdoFieeolCCUg6USEnv0QhP00hrTTPHgB31Or0MQAAAA=='\n"
       ]
      }
     ],
     "prompt_number": 77
    },
    {
     "cell_type": "code",
     "collapsed": false,
     "input": [
      "import zlib\n",
      "base64.b64encode(zlib.compress(\"This is mike number one, isn't this a lot of fun?\".encode()))\n",
      "for char in zlib.compress(\"This is mike number one, isn't this a lot of fun?\".encode()):\n",
      "    print(char)"
     ],
     "language": "python",
     "metadata": {},
     "outputs": [
      {
       "output_type": "stream",
       "stream": "stdout",
       "text": [
        "120\n",
        "156\n",
        "11\n",
        "201\n",
        "200\n",
        "44\n",
        "86\n",
        "0\n",
        "162\n",
        "220\n",
        "204\n",
        "236\n",
        "84\n",
        "133\n",
        "188\n",
        "210\n",
        "220\n",
        "164\n",
        "212\n",
        "34\n",
        "133\n",
        "252\n",
        "188\n",
        "84\n",
        "29\n",
        "160\n",
        "88\n",
        "158\n",
        "122\n",
        "137\n",
        "66\n",
        "9\n",
        "72\n",
        "58\n",
        "81\n",
        "33\n",
        "39\n",
        "191\n",
        "68\n",
        "33\n",
        "63\n",
        "77\n",
        "33\n",
        "173\n",
        "52\n",
        "207\n",
        "30\n",
        "0\n",
        "174\n",
        "96\n",
        "16\n",
        "252\n"
       ]
      }
     ],
     "prompt_number": 91
    },
    {
     "cell_type": "code",
     "collapsed": false,
     "input": [
      "print(len(zlib.compress(\"This is mike number one, isn't this a lot of fun?\".encode())))"
     ],
     "language": "python",
     "metadata": {},
     "outputs": [
      {
       "output_type": "stream",
       "stream": "stdout",
       "text": [
        "52\n"
       ]
      }
     ],
     "prompt_number": 89
    },
    {
     "cell_type": "code",
     "collapsed": false,
     "input": [
      "base64.b64decode(b'eJwLycgsVgCi3MzsVIW80tyk1CKF/LxUHaBYnnqJQglIOlEhJ79EIT9NIa00zx4ArmAQ/A==')"
     ],
     "language": "python",
     "metadata": {},
     "outputs": [
      {
       "metadata": {},
       "output_type": "pyout",
       "prompt_number": 34,
       "text": [
        "b'x\\x9c\\x0b\\xc9\\xc8,V\\x00\\xa2\\xdc\\xcc\\xecT\\x85\\xbc\\xd2\\xdc\\xa4\\xd4\"\\x85\\xfc\\xbcT\\x1d\\xa0X\\x9ez\\x89B\\tH:Q!\\'\\xbfD!?M!\\xad4\\xcf\\x1e\\x00\\xae`\\x10\\xfc'"
       ]
      }
     ],
     "prompt_number": 34
    },
    {
     "cell_type": "code",
     "collapsed": false,
     "input": [],
     "language": "python",
     "metadata": {},
     "outputs": [
      {
       "metadata": {},
       "output_type": "pyout",
       "prompt_number": 84,
       "text": [
        "b'MjNsNWtqMjNsNWprMjNsNmprYXNka2ZqbDtxd2pldHBvaXV6eGNidm5tLC4uMTIzNTEyMzUwODA5OC1rajY7MTIzNjsxMjM2MTIzNg=='"
       ]
      }
     ],
     "prompt_number": 84
    },
    {
     "cell_type": "code",
     "collapsed": false,
     "input": [
      "with open('test_python', 'wb') as f:\n",
      "    f.write(zlib.compress(\"This is mike number one, isn't this a lot of fun?\".encode()))"
     ],
     "language": "python",
     "metadata": {},
     "outputs": [],
     "prompt_number": 86
    },
    {
     "cell_type": "code",
     "collapsed": false,
     "input": [
      "bytes = os.urandom(36)"
     ],
     "language": "python",
     "metadata": {},
     "outputs": [],
     "prompt_number": 110
    },
    {
     "cell_type": "code",
     "collapsed": false,
     "input": [
      "bin_file = base64.b64encode(bytes)"
     ],
     "language": "python",
     "metadata": {},
     "outputs": [],
     "prompt_number": 115
    },
    {
     "cell_type": "code",
     "collapsed": false,
     "input": [
      "with open('test_bin', 'wb') as f:\n",
      "    f.write(bytes)"
     ],
     "language": "python",
     "metadata": {},
     "outputs": [],
     "prompt_number": 117
    },
    {
     "cell_type": "code",
     "collapsed": false,
     "input": [],
     "language": "python",
     "metadata": {},
     "outputs": []
    }
   ],
   "metadata": {}
  }
 ]
}